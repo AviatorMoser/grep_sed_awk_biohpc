{
 "cells": [
  {
   "cell_type": "markdown",
   "metadata": {},
   "source": [
    "# Sed\n",
    "\n",
    "[GNU Sed User's Manual](https://www.gnu.org/software/sed/manual/sed.html)\n",
    "\n",
    "[Sed on Wikipedia](https://en.wikipedia.org/wiki/Sed)\n",
    "\n",
    "[Bruce Barnett's Sed Guide](http://www.grymoire.com/Unix/Sed.html)\n",
    "\n",
    "##### Tutorial derived from the following:\n",
    "https://www.digitalocean.com/community/tutorials/the-basics-of-using-the-sed-stream-editor-to-manipulate-text-in-linux"
   ]
  },
  {
   "cell_type": "markdown",
   "metadata": {},
   "source": [
    "## History\n",
    "\n",
    "`sed` was developed in the early 1970s by Lee McMahon of Bell Telephone Labs as a substitute for `grep`'s search and replace functionality. It is incorporated into most GNU/Linux distributions."
   ]
  },
  {
   "cell_type": "markdown",
   "metadata": {},
   "source": [
    "## So, What's It Good For?\n",
    "\n",
    "`sed` is a stream editor. It performs text operations on an input, often instead the standard output of a program piped into `sed`. It has been superseded by other programs such as `awk` and `perl`, but it is still used frequently today, especially for its easy to use substitution command. Because `sed` defaults its output to the standard output, files by default are safe from being overwritten."
   ]
  },
  {
   "cell_type": "markdown",
   "metadata": {},
   "source": [
    "## How It Works\n",
    "\n",
    " - Reads a single line of text into an internal buffer called *pattern space*\n",
    " \n",
    " - For each pattern space, `sed` applies operations specified in a `sed` script\n",
    " \n",
    " - `sed` incorporates a programming language of 25 commands\n",
    " \n",
    " - By default, `sed` sends the result directly to standard output."
   ]
  },
  {
   "cell_type": "markdown",
   "metadata": {},
   "source": [
    "## Basic Usage\n",
    "\n",
    "```\n",
    "sed [options] commands [file-to-edit]\n",
    "```"
   ]
  },
  {
   "cell_type": "markdown",
   "metadata": {},
   "source": [
    "## Let's Begin"
   ]
  },
  {
   "cell_type": "code",
   "execution_count": null,
   "metadata": {},
   "outputs": [],
   "source": [
    "# copy a couple of basic text files to a working folder\n",
    "\n",
    "cp -v /archive/shared/biohpc_training/licenses/BSD ."
   ]
  },
  {
   "cell_type": "code",
   "execution_count": null,
   "metadata": {},
   "outputs": [],
   "source": [
    "sed --version"
   ]
  },
  {
   "cell_type": "markdown",
   "metadata": {},
   "source": [
    "`sed` outs to the standard output by default, so we can use `sed` with no commands to do the equivalent of `cat`"
   ]
  },
  {
   "cell_type": "code",
   "execution_count": null,
   "metadata": {},
   "outputs": [],
   "source": [
    "sed '' BSD"
   ]
  },
  {
   "cell_type": "markdown",
   "metadata": {},
   "source": [
    "We passed the file `BSD` to `sed`, but often the standard output of a program is instead piped to `sed` within a pipeline."
   ]
  },
  {
   "cell_type": "code",
   "execution_count": null,
   "metadata": {
    "scrolled": false
   },
   "outputs": [],
   "source": [
    "# An example pipeline\n",
    "# The standard output of cat is piped into sed\n",
    "\n",
    "cat BSD | sed ''"
   ]
  },
  {
   "cell_type": "markdown",
   "metadata": {},
   "source": [
    "### Printing Lines\n",
    "\n",
    "`sed` has an explicit print command that can be specified."
   ]
  },
  {
   "cell_type": "code",
   "execution_count": null,
   "metadata": {},
   "outputs": [],
   "source": [
    "cat BSD | sed 'p'"
   ]
  },
  {
   "cell_type": "markdown",
   "metadata": {},
   "source": [
    "Each line is printed twice because `sed` automatically prints each line, and then we commanded it to print each line explicity.\n",
    "\n",
    "We can suppress the default automatic printing by passing the `-n` '-quiet' parameter to `sed`."
   ]
  },
  {
   "cell_type": "code",
   "execution_count": null,
   "metadata": {},
   "outputs": [],
   "source": [
    "cat BSD | sed -n 'p'"
   ]
  },
  {
   "cell_type": "markdown",
   "metadata": {},
   "source": [
    "The print command has several operators. For example:"
   ]
  },
  {
   "cell_type": "code",
   "execution_count": null,
   "metadata": {},
   "outputs": [],
   "source": [
    "# printing only the first line\n",
    "cat BSD | sed -n '1p'"
   ]
  },
  {
   "cell_type": "code",
   "execution_count": null,
   "metadata": {},
   "outputs": [],
   "source": [
    "# printing a specific range of lines\n",
    "cat BSD | sed -n '1,5p'"
   ]
  },
  {
   "cell_type": "code",
   "execution_count": null,
   "metadata": {},
   "outputs": [],
   "source": [
    "# printing a specific line plus an offset\n",
    "cat BSD | sed -n '1,+4p'"
   ]
  },
  {
   "cell_type": "code",
   "execution_count": null,
   "metadata": {},
   "outputs": [],
   "source": [
    "# printing every other line starting at a specific line\n",
    "cat BSD | sed -n '1~2p'"
   ]
  },
  {
   "cell_type": "markdown",
   "metadata": {},
   "source": [
    "### Deleting Lines\n",
    "\n",
    "The `d` command can be used to delete lines with similar syntax to the `p` command."
   ]
  },
  {
   "cell_type": "code",
   "execution_count": null,
   "metadata": {},
   "outputs": [],
   "source": [
    "# deleting the copyright notice (1st three lines)\n",
    "\n",
    "cat BSD | sed '1,3d'"
   ]
  },
  {
   "cell_type": "markdown",
   "metadata": {},
   "source": [
    "## Substitution -- The Bread and Butter of `sed`\n",
    "\n",
    "`sed` is often used for find-and-replace operations on text. `sed` has the ability to use regular expressions giving it flexibility to filter and operate on almost any string of text."
   ]
  },
  {
   "cell_type": "markdown",
   "metadata": {},
   "source": [
    "### Replacing whole words with the `s` command\n",
    "\n",
    "```\n",
    "sed 's/old/new/`\n",
    "```\n",
    "\n",
    "The three slashes are used to delimit the substitution fields. Other characters may be used as delimiters if preferable."
   ]
  },
  {
   "cell_type": "code",
   "execution_count": null,
   "metadata": {},
   "outputs": [],
   "source": [
    "# Example: Replacing abbreviation 'Jul.' with the fuller 'Juliet:' (note the colon!)\n",
    "\n",
    "cat RJ_WS.txt | grep 'Jul\\.' | sed 's/Jul./Juliet:/'"
   ]
  },
  {
   "cell_type": "markdown",
   "metadata": {},
   "source": [
    "### Global substitution flag"
   ]
  },
  {
   "cell_type": "code",
   "execution_count": null,
   "metadata": {},
   "outputs": [],
   "source": [
    "# By default, the substitution operation is only executed once and then sed moves to the next line \n",
    "\n",
    "echo \"O Romeo, Romeo! wherefore art thou Romeo?\" | sed 's/Romeo/Gorgeous George/'"
   ]
  },
  {
   "cell_type": "code",
   "execution_count": null,
   "metadata": {},
   "outputs": [],
   "source": [
    "# Add the 'g' global pattern flag to make the substitution occur over the entire line\n",
    "\n",
    "echo \"O Romeo, Romeo! wherefore art thou Romeo?\" | sed 's/Romeo/Gorgeous George/g'"
   ]
  },
  {
   "cell_type": "markdown",
   "metadata": {},
   "source": [
    "![Gorgeous George](gg.jpg)"
   ]
  },
  {
   "cell_type": "markdown",
   "metadata": {},
   "source": [
    "### Line Insertions\n",
    "\n",
    "The `i` command is used for inserting text behind a pattern.\n",
    "\n",
    "```\n",
    "sed '/PATTERN/ i\\Add this line before every line with PATTERN'\n",
    "```"
   ]
  },
  {
   "cell_type": "code",
   "execution_count": null,
   "metadata": {},
   "outputs": [],
   "source": [
    "# Gorgeous George has problems reading the script and often misses lines he is supposed to know\n",
    "\n",
    "# Let's modify the script so that he will be less likely to miss his lines\n",
    "\n",
    "cat RJ_WS.txt | sed '/^\\s*Rom\\./ i\\!*!*!*!*!*GORGEOUS GEORGE LINE HERE!!*!*!*!*!*'"
   ]
  },
  {
   "cell_type": "markdown",
   "metadata": {},
   "source": [
    "### Chaining commands\n",
    "\n",
    "What if one wanted to perform multiple commands with `sed`?"
   ]
  },
  {
   "cell_type": "code",
   "execution_count": null,
   "metadata": {},
   "outputs": [],
   "source": [
    "# One could reasonably pipe the output of sed back into sed\n",
    "\n",
    "# Example:\n",
    "# Replace Rom. with GG.\n",
    "# Relace all instances of Romeo with Gorgeous George\n",
    "# Print out lines 1282-1289\n",
    "\n",
    "cat RJ_WS.txt | sed 's/Rom\\./GG./' | sed 's/Romeo/Gorgeous George/g' | sed -n '1282,1289p'"
   ]
  },
  {
   "cell_type": "code",
   "execution_count": null,
   "metadata": {},
   "outputs": [],
   "source": [
    "# Using the -e option, a chain of commands can be appended to a single operation\n",
    "\n",
    "cat RJ_WS.txt | sed -n -e 's/Rom\\./GG./' -e 's/Romeo/Gorgeous George/g' -e '1282,1289p'"
   ]
  },
  {
   "cell_type": "code",
   "execution_count": null,
   "metadata": {},
   "outputs": [],
   "source": [
    "# Or even more concisely\n",
    "\n",
    "# Use semicolons instead of -e\n",
    "\n",
    "cat RJ_WS.txt | sed -n 's/Rom\\./GG./;s/Romeo/Gorgeous George/g;1282,1289p'"
   ]
  },
  {
   "cell_type": "markdown",
   "metadata": {},
   "source": [
    "## Other uses"
   ]
  },
  {
   "cell_type": "code",
   "execution_count": null,
   "metadata": {},
   "outputs": [],
   "source": [
    "# appending a line\n",
    "\n",
    "# 'a' for appending after a line\n",
    "\n",
    "cat BSD | sed -n -e '1a\\Copyright (c) UT Southwestern Medical Center.' -e '1d' -e '1,+5p'"
   ]
  },
  {
   "cell_type": "code",
   "execution_count": null,
   "metadata": {},
   "outputs": [],
   "source": [
    "# Equivalently\n",
    "\n",
    "# 'i' for insertions\n",
    "\n",
    "cat BSD | sed -n -e '1i\\Copyright (c) UT Southwestern Medical Center.' -e '1d' -e '1,+5p'"
   ]
  },
  {
   "cell_type": "code",
   "execution_count": null,
   "metadata": {},
   "outputs": [],
   "source": [
    "# Also equivalent \n",
    "\n",
    "# 'c' is for modifying\n",
    "\n",
    "cat BSD | sed -n -e '1c\\Copyright (c) UT Southwestern Medical Center.' -e '1,+5p'"
   ]
  }
 ],
 "metadata": {
  "kernelspec": {
   "display_name": "Bash",
   "language": "bash",
   "name": "bash"
  },
  "language_info": {
   "codemirror_mode": "shell",
   "file_extension": ".sh",
   "mimetype": "text/x-sh",
   "name": "bash"
  }
 },
 "nbformat": 4,
 "nbformat_minor": 2
}
