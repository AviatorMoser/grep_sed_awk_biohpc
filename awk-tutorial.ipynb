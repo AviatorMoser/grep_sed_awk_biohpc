{
 "cells": [
  {
   "cell_type": "markdown",
   "metadata": {},
   "source": [
    "# Awk\n",
    "\n",
    "[GNU Gawk User's Manual](https://www.gnu.org/software/gawk/manual/gawk.html)\n",
    "\n",
    "[Awk on Wikipedia](https://en.wikipedia.org/wiki/AWK)\n",
    "\n",
    "##### Tutorial Derived from the following:\n",
    "http://linuxcommand.org/lc3_adv_awk.php"
   ]
  },
  {
   "cell_type": "markdown",
   "metadata": {},
   "source": [
    "## History\n",
    "\n",
    "The AWK programming language is truly one of the classic tools used in Unix. It dates back to the very earliest days of the Unix tradition. It was originally developed in the late 1970's at Bell Telephone Laboratories by Alfred Aho, Peter Weinberger, and Brian Kernighan. The name \"AWK\" comes from the last names of the three authors. It underwent major improvements in 1985 with the release of nawk or \"new awk.\" It is that version that we still use today, though it is usually just called awk."
   ]
  },
  {
   "cell_type": "markdown",
   "metadata": {},
   "source": [
    "## So, What's It Good For?\n",
    "\n",
    "Though AWK is fairly general purpose, it is really designed to create filters, that is, programs that accept standard input, transform data, and send it to standard output. In particular, AWK is very good at processing columnar data. This makes it a good choice for developing report generators, and tools that are used to re-format data. Since it has strong regular expression support, it's good for very small text extraction and reformatting problems, too. Like sed, many AWK programs are just one line long.\n",
    "\n",
    "In recent years, AWK has fallen out of fashion, being supplanted by other, newer, interpreted languages such as Perl and python, but AWK still has some advantages:\n",
    "\n",
    " - It's easy to learn. The language is not overly complex and has a syntax much like the C programming language, so learning it will be useful in the future when we study other languages and tools.\n",
    "\n",
    " - It really excels at a solving certain types of problems."
   ]
  },
  {
   "cell_type": "markdown",
   "metadata": {},
   "source": [
    "## How It Works\n",
    "\n",
    " - Operates on a single `record` at a time\n",
    " \n",
    " - A `record` is a single line of text terminate by a newline character `\\n`\n",
    " \n",
    " - Each `record` is separated into `fields`, which by default are separated by white space\n",
    " \n",
    " - Fields are given numeric variables: `$1`, `$2`, `$3`, `$4`, `$5`.....and so on and so on.\n",
    " \n",
    " - The field `$0` is special and representes the entire `record`."
   ]
  },
  {
   "cell_type": "code",
   "execution_count": null,
   "metadata": {
    "scrolled": true
   },
   "outputs": [],
   "source": [
    "awk --version"
   ]
  },
  {
   "cell_type": "markdown",
   "metadata": {},
   "source": [
    "### The first example"
   ]
  },
  {
   "cell_type": "code",
   "execution_count": null,
   "metadata": {
    "scrolled": true
   },
   "outputs": [],
   "source": [
    "ls -l /usr/bin | awk '{print $0}'"
   ]
  },
  {
   "cell_type": "markdown",
   "metadata": {},
   "source": [
    "### Breaking down the first example\n",
    "\n",
    "- The awk program is contained within the single quotation marks `'{print $0}'`\n",
    "\n",
    "- Quotation marks prevent the shell from expanding the `$` symbol\n",
    "\n",
    "- The output of `ls -l /usr/bin` is piped into our program line by line, i.e. record by record.\n",
    "\n",
    "- `{print $0}` prints out the entire record."
   ]
  },
  {
   "cell_type": "code",
   "execution_count": null,
   "metadata": {},
   "outputs": [],
   "source": [
    "# print the first field\n",
    "\n",
    "ls -l /usr/bin | awk '{print $1}'"
   ]
  },
  {
   "cell_type": "code",
   "execution_count": null,
   "metadata": {},
   "outputs": [],
   "source": [
    "# print the ninth field\n",
    "\n",
    "ls -l /usr/bin | awk '{print $9}'"
   ]
  },
  {
   "cell_type": "markdown",
   "metadata": {},
   "source": [
    "Most lines returned by `ls -l /usr/bin` have nine fields separated by whitespace.\n",
    "\n",
    "But some files in `/usr/bin` are symbolically links to other files, which show up in subsequent fields.\n",
    "\n",
    "Let's find these by print all records where the number of fields exceeds 9."
   ]
  },
  {
   "cell_type": "code",
   "execution_count": null,
   "metadata": {},
   "outputs": [],
   "source": [
    "ls -l /usr/bin | awk 'NF > 9 {print $0}'"
   ]
  },
  {
   "cell_type": "markdown",
   "metadata": {},
   "source": [
    "### Special patterns\n",
    "\n",
    "Awk patterns can run in many forms, such as conditional expressions in the above example and regular expressions.\n",
    "\n",
    "Two special patterns exist: `BEGIN` and `END`\n",
    "\n",
    "- `BEGIN` carries out its action before the first record is read\n",
    "- `END` carries out its action after the last record is read"
   ]
  },
  {
   "cell_type": "markdown",
   "metadata": {},
   "source": [
    "### Special Pattern Example\n",
    "\n",
    "##### Building a directory report\n",
    "\n",
    "Let's employ `BEGIN` and `END` to build a directory report from `ls -l /usr/bin`. \n",
    "\n",
    "Steps:\n",
    "\n",
    "1) Use `BEGIN` to make a header.\n",
    "\n",
    "```\n",
    "Directory Report\n",
    "================\n",
    "```\n",
    "\n",
    "2) For each record that has more than nine fields, use this pattern: `{print $9, \"is a symbolic link to\", $NF}`\n",
    "\n",
    "3) Create a footer at the very end of the report.\n",
    "```\n",
    "=============\n",
    "End Of Report\n",
    "```"
   ]
  },
  {
   "cell_type": "code",
   "execution_count": null,
   "metadata": {},
   "outputs": [],
   "source": [
    "# Print a directory report\n",
    "\n",
    "ls -l /usr/bin | awk '\n",
    "    BEGIN {\n",
    "        print \"Directory Report\"\n",
    "        print \"================\"\n",
    "    }\n",
    "\n",
    "    NF > 9 {\n",
    "        print $9, \"is a symbolic link to\", $NF\n",
    "    }\n",
    "\n",
    "    END {\n",
    "        print \"=============\"\n",
    "        print \"End Of Report\"\n",
    "    }\n",
    "\n",
    "'"
   ]
  },
  {
   "cell_type": "markdown",
   "metadata": {},
   "source": [
    "### Relational expressions\n",
    "\n",
    "Relational expressions are used to test fields for values. For example, we can test for equivalence:\n",
    "\n",
    "`$1 == \"Fedora\"`\n",
    "\n",
    "or for relations such as:\n",
    "\n",
    "`$3 >= 50`\n",
    "\n",
    "It is also possible to perform calculations like:\n",
    "\n",
    "`$1 * $2 < 100`"
   ]
  },
  {
   "cell_type": "markdown",
   "metadata": {},
   "source": [
    "### pattern logical-operator pattern\n",
    "\n",
    "It is possible to combine patterns together using the logical operators || and &&, meaning OR and AND, respectively.\n",
    "\n",
    "For example, to test a record to see if the first field is greater than 100 and the last field is \"Debit\":\n",
    "\n",
    "`$1 > 100 && $NF == \"Debit\"`"
   ]
  },
  {
   "cell_type": "markdown",
   "metadata": {},
   "source": [
    "## Built-in Variables"
   ]
  },
  {
   "cell_type": "markdown",
   "metadata": {},
   "source": [
    "### `FS`\n",
    "\n",
    "##### Field separator"
   ]
  },
  {
   "cell_type": "markdown",
   "metadata": {},
   "source": [
    "By default, awk automatically separates fields by whitespace. The field separator `FS` variable can be set for other field separators."
   ]
  },
  {
   "cell_type": "markdown",
   "metadata": {
    "collapsed": true
   },
   "source": [
    "```\n",
    "BEGIN { FS = \":\" }\n",
    "{ print $1, $5 }\n",
    "```"
   ]
  },
  {
   "cell_type": "markdown",
   "metadata": {},
   "source": [
    "### `RS`\n",
    "\n",
    "##### Record separator"
   ]
  },
  {
   "cell_type": "markdown",
   "metadata": {},
   "source": [
    "Records are automatically separated by the newline character `\\n`, but can also be specified by the record separator variable `RS`. For example, if records are separated by empty lines, then we modify our `RS` to be:"
   ]
  },
  {
   "cell_type": "markdown",
   "metadata": {},
   "source": [
    "```\n",
    "BEGIN { FS = \"\\n\"; RS = \"\" }\n",
    "```"
   ]
  },
  {
   "cell_type": "markdown",
   "metadata": {},
   "source": [
    "### `NF`\n",
    "\n",
    "##### Number of fields\n",
    "\n",
    "This variable updates each time a record is read. We can easily access the last field in the record by referring to `$NF`."
   ]
  },
  {
   "cell_type": "markdown",
   "metadata": {},
   "source": [
    "### `OFS`\n",
    "\n",
    "##### Output field separator\n",
    "\n",
    "This string is used to separate fields when printing output. The default is a single space. Setting this can be handy when reformatting data, e.g.,"
   ]
  },
  {
   "cell_type": "code",
   "execution_count": null,
   "metadata": {},
   "outputs": [],
   "source": [
    "ls -l /usr/bin | awk 'BEGIN {OFS = \",\"} NF == 9 {print $1,$2,$3,$4,$5,$6,$7,$8,$9}'"
   ]
  },
  {
   "cell_type": "markdown",
   "metadata": {},
   "source": [
    "### `ORS`\n",
    "\n",
    "##### Output record separator\n",
    "\n",
    "This is the string used to separate records when printing output. The default is a newline character. We could use this variable to easily double-space a file by setting ORS to equal two newlines:"
   ]
  },
  {
   "cell_type": "code",
   "execution_count": null,
   "metadata": {
    "scrolled": true
   },
   "outputs": [],
   "source": [
    "ls -l /usr/bin | awk 'BEGIN {ORS = \"\\n\\n\"} {print}'"
   ]
  },
  {
   "cell_type": "markdown",
   "metadata": {},
   "source": [
    "### `FILENAME`\n",
    "\n",
    "If AWK is reading its input from a file specified on the command line, then this variable contains the name of the file.\n",
    "\n",
    "### `FNR `\n",
    "\n",
    "##### File record number\n",
    "\n",
    "When reading input from a file specified on the command line, AWK sets this variable to the number of the record read from that file."
   ]
  },
  {
   "cell_type": "markdown",
   "metadata": {},
   "source": [
    "### Example: Filtering for American airports from `airports.dat`\n",
    "\n",
    "Let's build an awk program that filters an airport database for all USA airports and aggregates them into an organized table."
   ]
  },
  {
   "cell_type": "code",
   "execution_count": null,
   "metadata": {
    "scrolled": true
   },
   "outputs": [],
   "source": [
    "# first examine the structure of the database\n",
    "\n",
    "head airports.dat"
   ]
  },
  {
   "cell_type": "markdown",
   "metadata": {},
   "source": [
    "For illustration purposes, let's report where each USA airport is located.\n",
    "\n",
    "Example:\n",
    "\n",
    "```\n",
    "Dallas Love Field is located in Dallas\n",
    "```"
   ]
  },
  {
   "cell_type": "code",
   "execution_count": null,
   "metadata": {},
   "outputs": [],
   "source": [
    "# Print a directory report\n",
    "\n",
    "cat airports.dat | awk '\n",
    "    \n",
    "    # create header\n",
    "    BEGIN { FS = \",\"\n",
    "        print \"USA Airports\"\n",
    "        print \"================\"\n",
    "    }\n",
    "\n",
    "    # relational expressions\n",
    "    $4 == \"\\\"United States\\\"\" {\n",
    "        gsub(\"\\\"\",\"\",$2) # built-in string function -- here we are stripping the quotes\n",
    "        gsub(\"\\\"\",\"\",$3) # built-in string function -- here we are stripping the quotes\n",
    "        print $2, \"is located in\", $3\n",
    "    }\n",
    "\n",
    "    # create footer\n",
    "    END {\n",
    "        print \"=============\"\n",
    "        print \"End Of Report\"\n",
    "    }\n",
    "'"
   ]
  },
  {
   "cell_type": "markdown",
   "metadata": {},
   "source": [
    "### More Complex Relational Expressions"
   ]
  },
  {
   "cell_type": "markdown",
   "metadata": {},
   "source": [
    "Let's create a new report where only Canadian airports between 40 deg and 50 deg N latitude are listed.\n",
    "\n",
    "Let's also format each record so that they appear like so:\n",
    "\n",
    "```\n",
    "Airport: ICAO Full Name\n",
    "```"
   ]
  },
  {
   "cell_type": "code",
   "execution_count": null,
   "metadata": {},
   "outputs": [],
   "source": [
    "# Building a new database of Canadian airports between 40 N and 50 N latitude\n",
    "\n",
    "# Print a directory report\n",
    "\n",
    "cat airports.dat | awk '\n",
    "\n",
    "    # create header\n",
    "    BEGIN { FS = \",\"\n",
    "        print \"Canada Airports Between 40th and 50th parallels\"\n",
    "        print \"===============================================\"\n",
    "    }\n",
    "\n",
    "    # Three-conditions linked with pattern-logical operators\n",
    "    $4 == \"\\\"Canada\\\"\" && $7 > 40 && $7 < 50 {\n",
    "        gsub(\"\\\"\",\"\",$2)\n",
    "        gsub(\"\\\"\",\"\",$6)\n",
    "        print \"Airport:\", $6, $2 \n",
    "    }\n",
    "\n",
    "    # create footer\n",
    "    END {\n",
    "        print \"===============================================\"\n",
    "        print \"End Of Report\"\n",
    "    }\n",
    "'"
   ]
  },
  {
   "cell_type": "markdown",
   "metadata": {
    "collapsed": true
   },
   "source": [
    "## Awk Programming\n",
    " \n",
    "### User-defined functions"
   ]
  },
  {
   "cell_type": "markdown",
   "metadata": {},
   "source": [
    "### Variables"
   ]
  },
  {
   "cell_type": "markdown",
   "metadata": {},
   "source": [
    "##### Variables can be set in awk.\n",
    "\n",
    "For example, we can treat a string of numbers as number by applying math to it.\n",
    "\n",
    "```\n",
    "deg = 46 + 0\n",
    "min = 29 + 0\n",
    "sec = 6 + 0\n",
    "```\n",
    "\n",
    "We can also force awk to treat a variable as a string by concatenating an empty string.\n",
    "\n",
    "```\n",
    "deg = 46 \"\"\n",
    "```"
   ]
  },
  {
   "cell_type": "markdown",
   "metadata": {},
   "source": [
    "### Arrays"
   ]
  },
  {
   "cell_type": "markdown",
   "metadata": {},
   "source": [
    "Single-dimensional arrays are allowed in awk, and can be declared using the format:\n",
    "\n",
    "```\n",
    "array[key] = value\n",
    "```\n",
    "\n",
    "The key can be an integer or a string."
   ]
  },
  {
   "cell_type": "markdown",
   "metadata": {},
   "source": [
    "Example:\n",
    "\n",
    "```\n",
    "dms_lat[\"deg\"] = 0 + 0\n",
    "dms_lat[\"min\"] = 0 + 0\n",
    "dms_lat[\"sec\"] = 0 + 0\n",
    "\n",
    "dms_lon[\"deg\"] = 0 + 0\n",
    "dms_lon[\"min\"] = 0 + 0\n",
    "dms_lon[\"sec\"] = 0 + 0\n",
    "```"
   ]
  },
  {
   "cell_type": "markdown",
   "metadata": {},
   "source": [
    "Arrays should be declared in the `BEGIN` pattern of your awk script.\n",
    "\n",
    "```\n",
    "BEGIN { FS = \",\"\n",
    "    print \"Canada Airports Between 40th and 50th parallels\"\n",
    "    print \"===============================================\"\n",
    "\n",
    "    dms_lat[\"deg\"] = 0 + 0\n",
    "    dms_lat[\"min\"] = 0 + 0\n",
    "    dms_lat[\"sec\"] = 0 + 0\n",
    "\n",
    "    dms_lon[\"deg\"] = 0 + 0\n",
    "    dms_lon[\"min\"] = 0 + 0\n",
    "    dms_lon[\"sec\"] = 0 + 0     \n",
    "}\n",
    "```"
   ]
  },
  {
   "cell_type": "markdown",
   "metadata": {},
   "source": [
    "### User-defined functions"
   ]
  },
  {
   "cell_type": "markdown",
   "metadata": {},
   "source": [
    "Awk allows for custom functions in a similar style to C.\n",
    "\n",
    "Scalar-variables, strings and numbers, are passed by value, meaning they are copied into a local variable within the function.\n",
    "\n",
    "Arrays are passed by reference, i.e. they act like global variables."
   ]
  },
  {
   "cell_type": "markdown",
   "metadata": {},
   "source": [
    "#### Example: A function that converts decimals coordinate to degrees-minutes-seconds\n",
    "\n",
    "The scalar variables `coord_lat` and `coord_lon` are treated like local variables inside the function.\n",
    "\n",
    "`dms_lat` is an existing array that is passed by reference and modified by the function.\n",
    "\n",
    "```\n",
    "function dec_dms(coord_lat, coord_lon) {\n",
    "    dms_lat[\"deg\"] = int(coord_lat)\n",
    "    rem_deg = sqrt( (coord_lat - dms_lat[\"deg\"])*(coord_lat - dms_lat[\"deg\"]) )\n",
    "    dms_lat[\"min\"] = int(rem_deg*60)\n",
    "    rem_min = rem_deg*60 - dms_lat[\"min\"]\n",
    "    dms_lat[\"sec\"] = int(rem_min*60)\n",
    "\n",
    "    dms_lon[\"deg\"] = int(coord_lon)\n",
    "    rem_deg = sqrt( (coord_lon - dms_lon[\"deg\"])*(coord_lon - dms_lon[\"deg\"]) )\n",
    "    dms_lon[\"min\"] = int(rem_deg*60)\n",
    "    rem_min = rem_deg*60 - dms_lon[\"min\"]\n",
    "    dms_lon[\"sec\"] = int(rem_min*60)        \n",
    "}\n",
    "```"
   ]
  },
  {
   "cell_type": "markdown",
   "metadata": {},
   "source": [
    "### Example: Converting Airport Decimal Coordinates to Degrees-Minutes-Seconds"
   ]
  },
  {
   "cell_type": "code",
   "execution_count": null,
   "metadata": {},
   "outputs": [],
   "source": [
    "# Building a new database of Canadian airports between 40 N and 50 N latitude\n",
    "\n",
    "# Print a directory report\n",
    "\n",
    "cat airports.dat | awk '\n",
    "\n",
    "    # We can define functions in Awk\n",
    "    \n",
    "    function dec_dms(coord_lat, coord_lon) {\n",
    "        dms_lat[\"deg\"] = int(coord_lat)\n",
    "        rem_deg = sqrt( (coord_lat - dms_lat[\"deg\"])*(coord_lat - dms_lat[\"deg\"]) )\n",
    "        dms_lat[\"min\"] = int(rem_deg*60)\n",
    "        rem_min = rem_deg*60 - dms_lat[\"min\"]\n",
    "        dms_lat[\"sec\"] = int(rem_min*60)\n",
    "        \n",
    "        dms_lon[\"deg\"] = int(coord_lon)\n",
    "        rem_deg = sqrt( (coord_lon - dms_lon[\"deg\"])*(coord_lon - dms_lon[\"deg\"]) )\n",
    "        dms_lon[\"min\"] = int(rem_deg*60)\n",
    "        rem_min = rem_deg*60 - dms_lon[\"min\"]\n",
    "        dms_lon[\"sec\"] = int(rem_min*60)        \n",
    "    }\n",
    "\n",
    "    BEGIN { FS = \",\"\n",
    "        print \"Canada Airports Between 40th and 50th parallels\"\n",
    "        print \"===============================================\"\n",
    "        \n",
    "        # single dimensional arrays are allowed in AWK\n",
    "        # Here we initialize an array for converting coordinates into deg-min-sec format\n",
    "    \n",
    "        dms_lat[\"deg\"] = 0 + 0\n",
    "        dms_lat[\"min\"] = 0 + 0\n",
    "        dms_lat[\"sec\"] = 0 + 0\n",
    "\n",
    "        dms_lon[\"deg\"] = 0 + 0\n",
    "        dms_lon[\"min\"] = 0 + 0\n",
    "        dms_lon[\"sec\"] = 0 + 0     \n",
    "    }\n",
    "\n",
    "    $4 == \"\\\"Canada\\\"\" && $7 > 40 && $7 < 50 {\n",
    "        gsub(\"\\\"\",\"\",$2)\n",
    "        gsub(\"\\\"\",\"\",$6)\n",
    "        dec_dms($7, $8)\n",
    "        # print only the airport ICAO code and lat/long in DMS format\n",
    "        print \"Airport: \", $6, dms_lat[\"deg\"] \"\\xc2\\xb0\", dms_lat[\"min\"] \"\\x27\", dms_lat[\"sec\"] \"\\x22\", dms_lon[\"deg\"] \"\\xc2\\xb0\", dms_lon[\"min\"] \"\\x27\", dms_lon[\"sec\"] \"\\x22\"\n",
    "    }\n",
    "\n",
    "    END {\n",
    "        print \"===============================================\"\n",
    "        print \"End Of Report\"\n",
    "    }\n",
    "'"
   ]
  },
  {
   "cell_type": "markdown",
   "metadata": {},
   "source": [
    "### Expanding Our Example\n",
    "\n",
    "##### Conditional statements"
   ]
  },
  {
   "cell_type": "code",
   "execution_count": null,
   "metadata": {},
   "outputs": [],
   "source": [
    "# Building a new database of Canadian airports between 40 N and 50 N latitude\n",
    "\n",
    "# Print a directory report\n",
    "\n",
    "cat airports.dat | awk '\n",
    "\n",
    "    # We can also define functions in AWK\n",
    "    \n",
    "    function dec_dms(coord_lat, coord_lon) {\n",
    "        dms_lat[\"deg\"] = int(coord_lat)\n",
    "        rem_deg = sqrt( (coord_lat - dms_lat[\"deg\"])*(coord_lat - dms_lat[\"deg\"]) )\n",
    "        dms_lat[\"min\"] = int(rem_deg*60)\n",
    "        rem_min = rem_deg*60 - dms_lat[\"min\"]\n",
    "        dms_lat[\"sec\"] = int(rem_min*60)\n",
    "\n",
    "        # conditional statement to note which hemisphere\n",
    "        if (coord_lat < 0) {\n",
    "            dms_lat[\"hem\"] = \"S\"\n",
    "            dms_lat[\"deg\"] = -1*dms_lat[\"deg\"]\n",
    "        }\n",
    "\n",
    "        dms_lon[\"deg\"] = int(coord_lon)\n",
    "        rem_deg = sqrt( (coord_lon - dms_lon[\"deg\"])*(coord_lon - dms_lon[\"deg\"]) )\n",
    "        dms_lon[\"min\"] = int(rem_deg*60)\n",
    "        rem_min = rem_deg*60 - dms_lon[\"min\"]\n",
    "        dms_lon[\"sec\"] = int(rem_min*60)\n",
    "\n",
    "        # conditional statement to note which hemisphere\n",
    "        if (coord_lon < 0) {\n",
    "            dms_lon[\"hem\"] = \"W\"\n",
    "            dms_lon[\"deg\"] = -1*dms_lon[\"deg\"]\n",
    "        }\n",
    "    }   \n",
    "\n",
    "    BEGIN { FS = \",\"\n",
    "        print \"Canada Airports Between 40th and 50th parallels\"\n",
    "        print \"===============================================\"\n",
    "        \n",
    "        # single dimensional arrays are allowed in AWK\n",
    "        # Here we initialize an array for converting coordinates into deg-min-sec format\n",
    "\n",
    "        dms_lat[\"deg\"] = 0 + 0\n",
    "        dms_lat[\"min\"] = 0 + 0\n",
    "        dms_lat[\"sec\"] = 0 + 0\n",
    "        dms_lat[\"hem\"] = \"N\"\n",
    "        dms_lon[\"deg\"] = 0 + 0\n",
    "        dms_lon[\"min\"] = 0 + 0\n",
    "        dms_lon[\"sec\"] = 0 + 0\n",
    "        dms_lon[\"hem\"] = \"E\"\n",
    "    }\n",
    "\n",
    "    $4 == \"\\\"Canada\\\"\" && $7 > 40 && $7 < 50 {\n",
    "        gsub(\"\\\"\",\"\",$2)\n",
    "        gsub(\"\\\"\",\"\",$6)\n",
    "        dec_dms($7, $8)\n",
    "        print \"Airport: \", $6, dms_lat[\"deg\"] \"\\xc2\\xb0\" dms_lat[\"hem\"], dms_lat[\"min\"] \"\\x27\", dms_lat[\"sec\"] \"\\x22\", dms_lon[\"deg\"] \"\\xc2\\xb0\" dms_lon[\"hem\"], dms_lon[\"min\"] \"\\x27\", dms_lon[\"sec\"] \"\\x22\"\n",
    "    }\n",
    "\n",
    "    END {\n",
    "        print \"===============================================\"\n",
    "        print \"End Of Report\"\n",
    "    }\n",
    "'"
   ]
  },
  {
   "cell_type": "markdown",
   "metadata": {},
   "source": [
    "### Expanding Once More\n",
    "\n",
    "##### printf \"print format\""
   ]
  },
  {
   "cell_type": "code",
   "execution_count": null,
   "metadata": {},
   "outputs": [],
   "source": [
    "# Building a new database of Canadian airports between 40 N and 50 N latitude\n",
    "\n",
    "# Print a directory report\n",
    "\n",
    "cat airports.dat | awk '\n",
    "\n",
    "    # We can also define functions in AWK\n",
    "    \n",
    "    function dec_dms(coord_lat, coord_lon) {\n",
    "        dms_lat[\"deg\"] = int(coord_lat)\n",
    "        rem_deg = sqrt( (coord_lat - dms_lat[\"deg\"])*(coord_lat - dms_lat[\"deg\"]) )\n",
    "        dms_lat[\"min\"] = int(rem_deg*60)\n",
    "        rem_min = rem_deg*60 - dms_lat[\"min\"]\n",
    "        dms_lat[\"sec\"] = int(rem_min*60)\n",
    "\n",
    "        # conditional statement to note which hemisphere\n",
    "        if (coord_lat < 0) {\n",
    "            dms_lat[\"hem\"] = \"S\"\n",
    "            dms_lat[\"deg\"] = -1*dms_lat[\"deg\"]\n",
    "        }\n",
    "\n",
    "        dms_lon[\"deg\"] = int(coord_lon)\n",
    "        rem_deg = sqrt( (coord_lon - dms_lon[\"deg\"])*(coord_lon - dms_lon[\"deg\"]) )\n",
    "        dms_lon[\"min\"] = int(rem_deg*60)\n",
    "        rem_min = rem_deg*60 - dms_lon[\"min\"]\n",
    "        dms_lon[\"sec\"] = int(rem_min*60)\n",
    "\n",
    "        # conditional statement to note which hemisphere\n",
    "        if (coord_lon < 0) {\n",
    "            dms_lon[\"hem\"] = \"W\"\n",
    "            dms_lon[\"deg\"] = -1*dms_lon[\"deg\"]\n",
    "        }\n",
    "    }   \n",
    "\n",
    "    BEGIN { FS = \",\"\n",
    "        print \"Canada Airports Between 40th and 50th parallels\"\n",
    "        print \"===============================================\"\n",
    "        \n",
    "        # single dimensional arrays are allowed in AWK\n",
    "        # Here we initialize an array for converting coordinates into deg-min-sec format\n",
    "\n",
    "        dms_lat[\"deg\"] = 0\n",
    "        dms_lat[\"min\"] = 0\n",
    "        dms_lat[\"sec\"] = 0\n",
    "        dms_lat[\"hem\"] = \"N\"\n",
    "        dms_lon[\"deg\"] = 0\n",
    "        dms_lon[\"min\"] = 0\n",
    "        dms_lon[\"sec\"] = 0\n",
    "        dms_lon[\"hem\"] = \"E\"\n",
    "    }\n",
    "\n",
    "    $4 == \"\\\"Canada\\\"\" && $7 > 40 && $7 < 50 {\n",
    "        gsub(\"\\\"\",\"\",$2)\n",
    "        gsub(\"\\\"\",\"\",$6)\n",
    "        dec_dms($7, $8)\n",
    "        printf \"%-5s %-5s %-4s %-4s %-5s %-4s %-4s \\n\", $6, dms_lat[\"deg\"] \"\\xc2\\xb0\" dms_lat[\"hem\"], dms_lat[\"min\"] \"\\x27\", dms_lat[\"sec\"] \"\\x22\", dms_lon[\"deg\"] \"\\xc2\\xb0\" dms_lon[\"hem\"], dms_lon[\"min\"] \"\\x27\", dms_lon[\"sec\"] \"\\x22\"\n",
    "    }\n",
    "\n",
    "    END {\n",
    "        print \"===============================================\"\n",
    "        print \"End Of Report\"\n",
    "    }\n",
    "'"
   ]
  },
  {
   "cell_type": "markdown",
   "metadata": {},
   "source": [
    "## Saving Our Script to An Awk Script File"
   ]
  },
  {
   "cell_type": "code",
   "execution_count": null,
   "metadata": {
    "collapsed": true
   },
   "outputs": [],
   "source": [
    "echo '\n",
    "\n",
    "    # We can also define functions in AWK\n",
    "    \n",
    "    function dec_dms(coord_lat, coord_lon) {\n",
    "        dms_lat[\"deg\"] = int(coord_lat)\n",
    "        rem_deg = sqrt( (coord_lat - dms_lat[\"deg\"])*(coord_lat - dms_lat[\"deg\"]) )\n",
    "        dms_lat[\"min\"] = int(rem_deg*60)\n",
    "        rem_min = rem_deg*60 - dms_lat[\"min\"]\n",
    "        dms_lat[\"sec\"] = int(rem_min*60)\n",
    "\n",
    "        # conditional statement to note which hemisphere\n",
    "        if (coord_lat < 0) {\n",
    "            dms_lat[\"hem\"] = \"S\"\n",
    "            dms_lat[\"deg\"] = -1*dms_lat[\"deg\"]\n",
    "        }\n",
    "\n",
    "        dms_lon[\"deg\"] = int(coord_lon)\n",
    "        rem_deg = sqrt( (coord_lon - dms_lon[\"deg\"])*(coord_lon - dms_lon[\"deg\"]) )\n",
    "        dms_lon[\"min\"] = int(rem_deg*60)\n",
    "        rem_min = rem_deg*60 - dms_lon[\"min\"]\n",
    "        dms_lon[\"sec\"] = int(rem_min*60)\n",
    "\n",
    "        # conditional statement to note which hemisphere\n",
    "        if (coord_lon < 0) {\n",
    "            dms_lon[\"hem\"] = \"W\"\n",
    "            dms_lon[\"deg\"] = -1*dms_lon[\"deg\"]\n",
    "        }\n",
    "    }   \n",
    "\n",
    "    BEGIN { FS = \",\"\n",
    "        print \"Canada Airports Between 40th and 50th parallels\"\n",
    "        print \"===============================================\"\n",
    "        \n",
    "        # single dimensional arrays are allowed in AWK\n",
    "        # Here we initialize an array for converting coordinates into deg-min-sec format\n",
    "\n",
    "        dms_lat[\"deg\"] = 0\n",
    "        dms_lat[\"min\"] = 0\n",
    "        dms_lat[\"sec\"] = 0\n",
    "        dms_lat[\"hem\"] = \"N\"\n",
    "        dms_lon[\"deg\"] = 0\n",
    "        dms_lon[\"min\"] = 0\n",
    "        dms_lon[\"sec\"] = 0\n",
    "        dms_lon[\"hem\"] = \"E\"\n",
    "    }\n",
    "\n",
    "    $4 == \"\\\"Canada\\\"\" && $7 > 40 && $7 < 50 {\n",
    "        gsub(\"\\\"\",\"\",$2)\n",
    "        gsub(\"\\\"\",\"\",$6)\n",
    "        dec_dms($7, $8)\n",
    "        printf \"%-5s %-5s %-4s %-4s %-5s %-4s %-4s \\n\", $6, dms_lat[\"deg\"] \"\\xc2\\xb0\" dms_lat[\"hem\"], dms_lat[\"min\"] \"\\x27\", dms_lat[\"sec\"] \"\\x22\", dms_lon[\"deg\"] \"\\xc2\\xb0\" dms_lon[\"hem\"], dms_lon[\"min\"] \"\\x27\", dms_lon[\"sec\"] \"\\x22\"\n",
    "    }\n",
    "\n",
    "    END {\n",
    "        print \"===============================================\"\n",
    "        print \"End Of Report\"\n",
    "    }\n",
    "' > awk_prog.awk"
   ]
  },
  {
   "cell_type": "code",
   "execution_count": null,
   "metadata": {},
   "outputs": [],
   "source": [
    "cat awk_prog.awk"
   ]
  },
  {
   "cell_type": "code",
   "execution_count": null,
   "metadata": {},
   "outputs": [],
   "source": [
    "cat airports.dat | awk -f awk_prog.awk"
   ]
  }
 ],
 "metadata": {
  "kernelspec": {
   "display_name": "Bash",
   "language": "bash",
   "name": "bash"
  },
  "language_info": {
   "codemirror_mode": "shell",
   "file_extension": ".sh",
   "mimetype": "text/x-sh",
   "name": "bash"
  }
 },
 "nbformat": 4,
 "nbformat_minor": 2
}
