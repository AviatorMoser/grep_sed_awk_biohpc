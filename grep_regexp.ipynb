{
 "cells": [
  {
   "cell_type": "markdown",
   "metadata": {},
   "source": [
    "# Grep\n",
    "\n",
    "[GNU Grep User's Manual](https://www.gnu.org/software/grep/manual/grep.html)\n",
    "\n",
    "[Grep on Wikipedia](https://en.wikipedia.org/wiki/Grep)"
   ]
  },
  {
   "cell_type": "markdown",
   "metadata": {},
   "source": [
    "## History\n",
    "\n",
    "`grep` is an acronym for *globally search a regular expression and print*. In 1974, Ken Thompson of Bell Labs was asked by a researcher, Lee McMahon, who was attempting to determine the authors of the 85 anonymous [Federalist Papers](https://en.wikipedia.org/wiki/The_Federalist_Papers) solely through natural language processing. The current UNIX text editor at the time `ed` would run out of memory with so many documents, so Ken Thompson wrote `grep` overnight as a replacement."
   ]
  },
  {
   "cell_type": "markdown",
   "metadata": {},
   "source": [
    "![federalist.jpg](federalist.jpg)"
   ]
  },
  {
   "cell_type": "markdown",
   "metadata": {},
   "source": [
    "## So, What's It Good For?\n",
    "\n",
    "`grep` is used for searching plain-text files for regular expressions. It embodies the Unix philosophy.\n",
    "\n",
    "```\n",
    "1. Write programs that do one thing and do it well.\n",
    "2. Write programs to work together.\n",
    "3. Write programs to handle text streams, because that is a universal interface.\n",
    "\n",
    " -- Peter Salus (1994)\n",
    "```"
   ]
  },
  {
   "cell_type": "code",
   "execution_count": null,
   "metadata": {},
   "outputs": [],
   "source": [
    "grep --version"
   ]
  },
  {
   "cell_type": "markdown",
   "metadata": {},
   "source": [
    "## Examples"
   ]
  },
  {
   "cell_type": "markdown",
   "metadata": {},
   "source": [
    "### airports.dat\n",
    "\n",
    "`airports.dat` is a plain-text database of airports located around the world."
   ]
  },
  {
   "cell_type": "code",
   "execution_count": null,
   "metadata": {},
   "outputs": [],
   "source": [
    "# first examine the structure of the database\n",
    "\n",
    "head airports.dat"
   ]
  },
  {
   "cell_type": "code",
   "execution_count": null,
   "metadata": {},
   "outputs": [],
   "source": [
    "# count the number of entries (lines) in the file\n",
    "\n",
    "wc -l airports.dat"
   ]
  },
  {
   "cell_type": "code",
   "execution_count": null,
   "metadata": {},
   "outputs": [],
   "source": [
    "# Searching for airports in Canada\n",
    "grep 'Canada' airports.dat"
   ]
  },
  {
   "cell_type": "code",
   "execution_count": null,
   "metadata": {},
   "outputs": [],
   "source": [
    "# Counting the number of results\n",
    "\n",
    "grep -c 'Canada' airports.dat"
   ]
  },
  {
   "cell_type": "code",
   "execution_count": null,
   "metadata": {},
   "outputs": [],
   "source": [
    "# Filtering for all airports in America/Los Angeles time zone\n",
    "\n",
    "grep 'America/Los_Angeles' airports.dat"
   ]
  },
  {
   "cell_type": "markdown",
   "metadata": {},
   "source": [
    "## Piping\n",
    "\n",
    "The standard output stream of a command can be `piped` into grep using the `|` operator.\n",
    "\n",
    "![Pipeline.svg](Pipeline.svg)"
   ]
  },
  {
   "cell_type": "code",
   "execution_count": null,
   "metadata": {},
   "outputs": [],
   "source": [
    "# Example: printing every process run on the system\n",
    "\n",
    "ps aux"
   ]
  },
  {
   "cell_type": "code",
   "execution_count": null,
   "metadata": {},
   "outputs": [],
   "source": [
    "# Pipe the output of ps into grep to find all processes run by the user\n",
    "\n",
    "ps aux | grep $USER"
   ]
  },
  {
   "cell_type": "code",
   "execution_count": null,
   "metadata": {},
   "outputs": [],
   "source": [
    "# Piping cat into grep\n",
    "\n",
    "cat airports.dat | grep -c 'Canada'"
   ]
  },
  {
   "cell_type": "code",
   "execution_count": null,
   "metadata": {},
   "outputs": [],
   "source": [
    "# Equivalent of the above\n",
    "\n",
    "cat airports.dat | grep 'Canada' | wc -l"
   ]
  },
  {
   "cell_type": "markdown",
   "metadata": {
    "collapsed": true
   },
   "source": [
    "## Regular Expressions\n",
    "\n",
    "Regular expressions are search patterns that can be used to find or extract text from a larger body."
   ]
  },
  {
   "cell_type": "markdown",
   "metadata": {},
   "source": [
    "A regular expression may be an exact sequence of characters, e.g. `Canada`.\n",
    "\n",
    "However, an exact sequence is rather unflexible. Regular expressions allow for many options to customize a search."
   ]
  },
  {
   "cell_type": "markdown",
   "metadata": {},
   "source": [
    "## Airport Identifiers"
   ]
  },
  {
   "cell_type": "markdown",
   "metadata": {},
   "source": [
    "### Dot Wildcard"
   ]
  },
  {
   "cell_type": "code",
   "execution_count": null,
   "metadata": {},
   "outputs": [],
   "source": [
    "# Finding all airports with an ICAO code beginning with 'LF' (France airports)\n",
    "\n",
    "# . <--- dot wildcard means search for any character (including whitespace)\n",
    "\n",
    "grep -E '\"LF..\"' airports.dat"
   ]
  },
  {
   "cell_type": "markdown",
   "metadata": {},
   "source": [
    "### `[AB]` Filtering for only certain characters"
   ]
  },
  {
   "cell_type": "code",
   "execution_count": null,
   "metadata": {},
   "outputs": [],
   "source": [
    "# Filtering for airports with only \"C\" or \"K\" identifiers (airports only in Canada or continental USA)\n",
    "\n",
    "# [CK] <--- Select either C or K\n",
    "\n",
    "grep -E '\"[CK]...\"' airports.dat"
   ]
  },
  {
   "cell_type": "markdown",
   "metadata": {},
   "source": [
    "Our search returned:\n",
    "\n",
    "```\n",
    "1921,\"Sancti Spiritus Airport\",\"Sancti Spiritus\",\"Cuba\",\"USS\",\"MUSS\",21.9704,-79.442703,295,-5,\"U\",\"America/Havana\",\"airport\",\"OurAirports\"\n",
    "```\n",
    "\n",
    "This means our search is not restrictive enough. We need to enforce searches for only upper case letters."
   ]
  },
  {
   "cell_type": "markdown",
   "metadata": {},
   "source": [
    "### Range of characters"
   ]
  },
  {
   "cell_type": "code",
   "execution_count": null,
   "metadata": {},
   "outputs": [],
   "source": [
    "# [A-Z] Search only for uppercase letters\n",
    "\n",
    "grep -E '\"[CK][A-Z][A-Z][A-Z]\"' airports.dat"
   ]
  },
  {
   "cell_type": "markdown",
   "metadata": {},
   "source": [
    "### `{}` Repetition"
   ]
  },
  {
   "cell_type": "code",
   "execution_count": null,
   "metadata": {},
   "outputs": [],
   "source": [
    "# Repetition\n",
    "\n",
    "# If we know how many times a pattern should be repeated, then we can specify this amount in {}\n",
    "\n",
    "grep -E '\"[CK][A-Z]{3}\"' airports.dat"
   ]
  },
  {
   "cell_type": "code",
   "execution_count": null,
   "metadata": {},
   "outputs": [],
   "source": [
    "# Repetition\n",
    "\n",
    "# We can also specify a range of possible repetitions from a to b with {a,b}\n",
    "\n",
    "grep -E '\"[CK][A-Z]{2,3}\"' airports.dat"
   ]
  },
  {
   "cell_type": "markdown",
   "metadata": {},
   "source": [
    "### `+` One or more repetitions of an element"
   ]
  },
  {
   "cell_type": "code",
   "execution_count": null,
   "metadata": {},
   "outputs": [],
   "source": [
    "# Filtering for all Canadian airports between 40 N and 50 N\n",
    "\n",
    "# Breaking it down\n",
    "\n",
    "# Step 1) Filter for a 4 Letter Canadian ICAO code in quotation marks -- see previous examples\n",
    "\n",
    "# Step 2) Search for a comma\n",
    "\n",
    "# Step 3 Search for a number 4\n",
    "\n",
    "# Step 4) Search for a number between 0-9, followed by a period (period is escaped by a backslash)\n",
    "\n",
    "# Step 5) Search for one or more repetitions of another number with the + operator\n",
    "\n",
    "grep -E '\"C[A-Z]{2,3}\",4[0-9]\\.[0-9]+' airports.dat"
   ]
  },
  {
   "cell_type": "code",
   "execution_count": null,
   "metadata": {
    "scrolled": false
   },
   "outputs": [],
   "source": [
    "# Filtering for all Canadian airports between 40-50 N and 120-130W\n",
    "\n",
    "grep -E '\"C[A-Z]{2,3}\",4[0-9]\\.[0-9]+,-12[0-9]\\.[0-9]+' airports.dat"
   ]
  },
  {
   "cell_type": "markdown",
   "metadata": {},
   "source": [
    "### `^` Not operator"
   ]
  },
  {
   "cell_type": "code",
   "execution_count": null,
   "metadata": {},
   "outputs": [],
   "source": [
    "# Filtering for all non-Canadian airports between 40-50 N and 120-130W\n",
    "\n",
    "grep -E '\"[^C][A-Z]{2,3}\",4[0-9]\\.[0-9]+,-12[0-9]\\.[0-9]+' airports.dat"
   ]
  },
  {
   "cell_type": "code",
   "execution_count": null,
   "metadata": {},
   "outputs": [],
   "source": [
    "# Filtering for all non-Canadian and non-continental U.S airports between 50-60 N and 130-140W\n",
    "\n",
    "grep -E '\"[^CK][A-Z]{2,3}\",5[0-9]\\.[0-9]+,-13[0-9]\\.[0-9]+' airports.dat"
   ]
  },
  {
   "cell_type": "code",
   "execution_count": null,
   "metadata": {},
   "outputs": [],
   "source": [
    "head -n 200 RJ_WS.txt"
   ]
  },
  {
   "cell_type": "markdown",
   "metadata": {},
   "source": [
    "### Beginning of Line `^`\n",
    "### Whitespace `\\s`\n",
    "### Zero or more repetitions `*`"
   ]
  },
  {
   "cell_type": "markdown",
   "metadata": {},
   "source": [
    "### Example: Filtering for all lines by a character\n",
    "\n",
    "Step 1) Anchor your search at the beginning of each line with the ^ anchor \n",
    "\n",
    "Step 2) Filter for zero or more multiple repetitions (*) of whitespace \\s\n",
    "\n",
    "Step 3) Filter for the character's name prefix\n",
    "\n",
    "Step 4) Filter for a period (\\.)"
   ]
  },
  {
   "cell_type": "code",
   "execution_count": null,
   "metadata": {
    "scrolled": false
   },
   "outputs": [],
   "source": [
    "# Filtering for all lines by Juliet\n",
    "\n",
    "grep -E '^\\s*Jul\\.' RJ_WS.txt"
   ]
  },
  {
   "cell_type": "markdown",
   "metadata": {},
   "source": [
    "### `$` End-of-Line Anchor"
   ]
  },
  {
   "cell_type": "code",
   "execution_count": null,
   "metadata": {},
   "outputs": [],
   "source": [
    "# Finding all questions asked by Juliet\n",
    "\n",
    "grep -E '^\\s*Jul\\..*\\?$' RJ_WS.txt"
   ]
  }
 ],
 "metadata": {
  "kernelspec": {
   "display_name": "Bash",
   "language": "bash",
   "name": "bash"
  },
  "language_info": {
   "codemirror_mode": "shell",
   "file_extension": ".sh",
   "mimetype": "text/x-sh",
   "name": "bash"
  }
 },
 "nbformat": 4,
 "nbformat_minor": 2
}
